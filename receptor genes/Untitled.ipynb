{
 "cells": [
  {
   "cell_type": "code",
   "execution_count": 1,
   "id": "b9f80cce",
   "metadata": {},
   "outputs": [],
   "source": [
    "import pandas as pd\n",
    "dataset = pd.read_csv(r\"C:\\Users\\javte\\Documents\\SSEF project\\datasets\\full_matrix\\matrix_logCPMrmBatch_20221207.csv\",index_col=[0]).T"
   ]
  },
  {
   "cell_type": "code",
   "execution_count": 2,
   "id": "a3871815",
   "metadata": {},
   "outputs": [],
   "source": [
    "dataset.columns = dataset.columns.map(lambda x: x.split('.',1)[0])"
   ]
  },
  {
   "cell_type": "code",
   "execution_count": 3,
   "id": "c6f612a9",
   "metadata": {},
   "outputs": [],
   "source": [
    "from gprofiler import GProfiler\n",
    "gp = GProfiler(return_dataframe=True)\n",
    "names = gp.convert(organism='hsapiens',\n",
    "            query=list(dataset.columns),\n",
    "            target_namespace='WIKIGENE')"
   ]
  },
  {
   "cell_type": "code",
   "execution_count": 25,
   "id": "a056175d",
   "metadata": {},
   "outputs": [],
   "source": [
    "receptors = [\"ERBB2\", \"ESR1\", \"ESR2\", \"PGR\", \"MKI67\"]\n",
    "dataset_filtered = dataset[names.query('name==@receptors').incoming]"
   ]
  },
  {
   "cell_type": "code",
   "execution_count": 31,
   "id": "9e5f8c3d",
   "metadata": {},
   "outputs": [],
   "source": [
    "receptor_symbols = dataset_filtered.rename(columns={\"ENSG00000082175\":\"ERBB2\",\n",
    "                                  \"ENSG00000091831\":\"ESR1\",\n",
    "                                  \"ENSG00000140009\":\"ESR2\",\n",
    "                                 \"ENSG00000141736\":\"PGR\",\n",
    "                                 \"ENSG00000148773\":\"MKI67\"})"
   ]
  },
  {
   "cell_type": "code",
   "execution_count": 36,
   "id": "9debdd83",
   "metadata": {},
   "outputs": [
    {
     "data": {
      "text/plain": [
       "(1190, 5)"
      ]
     },
     "execution_count": 36,
     "metadata": {},
     "output_type": "execute_result"
    }
   ],
   "source": [
    "from sklearn.decomposition import PCA\n",
    "pca = PCA()\n",
    "principalComponents_receptors = pca.fit_transform(receptor_symbols)\n",
    "principal_receptors = pd.DataFrame(data = principalComponents_receptors\n",
    "             , columns = [\"PC\"+str(i) for i in range(1, 5+1)])\n",
    "principal_receptors.shape"
   ]
  },
  {
   "cell_type": "code",
   "execution_count": null,
   "id": "f07d0879",
   "metadata": {},
   "outputs": [],
   "source": []
  }
 ],
 "metadata": {
  "kernelspec": {
   "display_name": "Python 3 (ipykernel)",
   "language": "python",
   "name": "python3"
  },
  "language_info": {
   "codemirror_mode": {
    "name": "ipython",
    "version": 3
   },
   "file_extension": ".py",
   "mimetype": "text/x-python",
   "name": "python",
   "nbconvert_exporter": "python",
   "pygments_lexer": "ipython3",
   "version": "3.9.15"
  }
 },
 "nbformat": 4,
 "nbformat_minor": 5
}
